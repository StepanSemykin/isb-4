{
 "cells": [
  {
   "cell_type": "code",
   "execution_count": 1,
   "metadata": {},
   "outputs": [
    {
     "data": {
      "text/plain": [
       "0"
      ]
     },
     "execution_count": 1,
     "metadata": {},
     "output_type": "execute_result"
    }
   ],
   "source": [
    "from PyQt5.QtWidgets import QApplication, QMainWindow, QProgressBar, QPushButton\n",
    "from PyQt5.QtCore import Qt, QBasicTimer\n",
    "\n",
    "\n",
    "class MainWindow(QMainWindow):\n",
    "    def __init__(self):\n",
    "        super().__init__()\n",
    "        \n",
    "        self.progress_bar = QProgressBar(self)\n",
    "        self.progress_bar.setGeometry(50, 50, 200, 30)\n",
    "        \n",
    "        self.start_button = QPushButton(\"Start\", self)\n",
    "        self.start_button.setGeometry(50, 100, 200, 30)\n",
    "        self.start_button.clicked.connect(self.start_progress)\n",
    "        \n",
    "        self.timer = QBasicTimer()\n",
    "        self.progress_value = 0\n",
    "        \n",
    "        self.setWindowTitle(\"Dynamic Progress Bar\")\n",
    "        self.setGeometry(300, 300, 300, 200)\n",
    "        \n",
    "    def timerEvent(self, event):\n",
    "        if self.progress_value >= 100:\n",
    "            self.timer.stop()\n",
    "            self.start_button.setEnabled(True)\n",
    "        else:\n",
    "            self.progress_value += 1\n",
    "            self.progress_bar.setValue(self.progress_value)\n",
    "    \n",
    "    def start_progress(self):\n",
    "        self.start_button.setEnabled(False)\n",
    "        self.progress_value = 0\n",
    "        self.progress_bar.setValue(self.progress_value)\n",
    "        self.timer.start(100, self)\n",
    "        \n",
    "\n",
    "app = QApplication([])\n",
    "window = MainWindow()\n",
    "window.show()\n",
    "app.exec_()"
   ]
  }
 ],
 "metadata": {
  "kernelspec": {
   "display_name": "Python 3",
   "language": "python",
   "name": "python3"
  },
  "language_info": {
   "codemirror_mode": {
    "name": "ipython",
    "version": 3
   },
   "file_extension": ".py",
   "mimetype": "text/x-python",
   "name": "python",
   "nbconvert_exporter": "python",
   "pygments_lexer": "ipython3",
   "version": "3.11.2"
  },
  "orig_nbformat": 4
 },
 "nbformat": 4,
 "nbformat_minor": 2
}
